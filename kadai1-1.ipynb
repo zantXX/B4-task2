{
 "cells": [
  {
   "cell_type": "markdown",
   "metadata": {},
   "source": [
    "# 【第一回目　課題１】フレームワークを使わない深層学習 (1): 全結合編\n",
    "\n",
    "第1回目の課題１では，フレームワークを使わないで，pythonのnumpyのみを用いて簡単なネットワークの順伝搬，逆伝搬，学習を行ってみましょう．\n",
    "\n",
    "まずは，全結合層＋ReLU＋2乗誤差関数 のネットワークを考えてみます．\n",
    "\n",
    "全結合層を使って任意の関数の近似を行います．"
   ]
  },
  {
   "cell_type": "code",
   "execution_count": 89,
   "metadata": {},
   "outputs": [],
   "source": [
    "import math\n",
    "import numpy as np"
   ]
  },
  {
   "cell_type": "markdown",
   "metadata": {},
   "source": [
    "全結合層クラスFc を作ってみます．\n",
    "Fc(入力要素数，出力要素数) とします．\n",
    "\n",
    "なお，numpyでは，１次元でベクトルを表現すると横ベクトル扱いになってしまうので，\n",
    "わかりやすくするために，ｎ次元ベクトルを(n,1)の２次元配列で表現することとして，\n",
    "縦ベクトルで表現とします．\n",
    "\n",
    "なお，Fcに活性化関数のReLUもまとめて入れてしまいます．\n",
    "さらに，update, updatem の勾配法によるパラメータの更新の\n",
    "メソッドも定義します．\n"
   ]
  },
  {
   "cell_type": "code",
   "execution_count": 90,
   "metadata": {},
   "outputs": [],
   "source": [
    "class Fc:\n",
    "    def __init__(self, n_in, n_out, relu=True, seed=0):\n",
    "        self.n_in=n_in\n",
    "        self.n_out=n_out\n",
    "        self.relu=relu\n",
    "        # w,b は全結合層の学習パラメータ．\n",
    "        # ReLuも全結合の中に含めてあります．\n",
    "        # ReLU=Trueのときは，Heの初期値．Falseのときは，Xavierの初期値とします．．\n",
    "        # xは直前のforward計算時の入力値．BPの計算時に必要．\n",
    "        np.random.seed(seed) # 同じ初期値を再現できるように seed を指定します．\n",
    "        if relu:\n",
    "            self.w=np.random.normal(0, math.sqrt(2.0/n_in), (n_out, n_in)) # Heの初期値\n",
    "            self.relu0=None # ReLUの順伝搬時に０以下で値が伝搬されない要素のインデックスを記録．BP時に利用．\n",
    "        else:\n",
    "            self.w=np.random.normal(0, math.sqrt(1.0/n_in), (n_out, n_in)) # Xavierの初期値   \n",
    "        self.b=np.zeros((n_out,1))\n",
    "        self.x=np.zeros((n_in,1))\n",
    "        #　誤差逆伝搬(Back-Propagation時の勾配を記録する変数)\n",
    "        self.dEdx=np.zeros((n_in,1)) # dE/dx を表す　BPの時に直前レイヤに伝わる勾配でδと表現されます．\n",
    "        self.dEdw=np.zeros((n_out,n_in)) # dE/dw を表す\n",
    "        self.dEdb=np.zeros((n_out,1)) # dE/db を表す\n",
    "        self.count=0\n",
    "        # 以下，MomentamSDGのための設定\n",
    "        self.mdw=np.zeros((n_out,n_in))\n",
    "        self.mdb=np.zeros((n_out,1))\n",
    "\n",
    "    # forward は __call__ を使って定義する．単純な 行列＊ベクトル＋ベクトル　の計算．\n",
    "    def __call__(self,x): \n",
    "        self.x = x\n",
    "        self.y = np.dot(self.w, x) + self.b\n",
    "        # ReLUは，値が０以下の要素は，０とする．０とした要素のインデックスは relu0に記録し，BP時に勾配を伝搬させない．\n",
    "        if self.relu:\n",
    "            self.relu0= self.y<=0\n",
    "            self.y[self.relu0]=0\n",
    "        return self.y\n",
    "\n",
    "    # backward は，dE/dy を受け取って，dE/dx を出力．内部では，dE/dw, dE/db を更新\n",
    "    def backward(self, dEdy):\n",
    "          # 順伝搬時に値が０以下だった要素は勾配を０として，勾配伝搬しない．\n",
    "          if self.relu:\n",
    "              dEdy[self.relu0]=0\n",
    "          dydx = np.transpose(self.w)  # dWx/dx= np.transpose(W) であることより．\n",
    "          dydw = np.transpose(self.x)  # dWx/dW= np.transpose(x) \n",
    "          # dydb = np.ones((self.n_out,1))   #  db/db = np.ones((n_out,1))　１なので特に計算しない．\n",
    "          # dEdw, dEdb に勾配を加算．dEdx (δ)は前層へ伝搬する勾配で，backwardの返り値とする．\n",
    "          self.dEdx = np.dot(dydx, dEdy)\n",
    "          self.dEdw += np.dot(dEdy, dydw)\n",
    "          self.dEdb += dEdy\n",
    "          self.count +=1  # 勾配の平均を取るために，足した勾配のサンプル数を記録．\n",
    "          return self.dEdx\n",
    "\n",
    "    # 勾配をクリア\n",
    "    def clear_grad(self):\n",
    "        self.dEdw=0\n",
    "        self.dEdb=0\n",
    "        self.count=0\n",
    "\n",
    "    # 勾配法で重みをアップデート．countで割って，足しこんだ勾配のサンプル数で平均を取る\n",
    "    def update(self, lr=0.001):\n",
    "        self.w -= self.dEdw/self.count * lr\n",
    "        self.b -= self.dEdb/self.count * lr\n",
    "        self.clear_grad()\n",
    "    \n",
    "    # 慣性項（モーメンタム項）付きの勾配法\n",
    "    def updatem(self, lr=0.001, mu=0.9):\n",
    "        self.mdw = mu*self.mdw - self.dEdw/self.count * lr\n",
    "        self.mdb = mu*self.mdb - self.dEdb/self.count * lr\n",
    "        self.w += self.mdw\n",
    "        self.b += self.mdb\n",
    "        self.clear_grad()\n"
   ]
  },
  {
   "cell_type": "markdown",
   "metadata": {},
   "source": [
    "学習モデルのオブジェクトを生成します．\n",
    "1x10+ReLU +10x10+ReLU + 10x1 の３層とします．"
   ]
  },
  {
   "cell_type": "code",
   "execution_count": 100,
   "metadata": {},
   "outputs": [],
   "source": [
    "fc1=Fc(1,20)\n",
    "fc2=Fc(20,20)\n",
    "fc3=Fc(20,1,False)"
   ]
  },
  {
   "cell_type": "markdown",
   "metadata": {},
   "source": [
    "Fcクラスの定義が終わったので，次に，近似する関数の定義を行って，学習データ(training data)，検証データ(validation data)を生成します．"
   ]
  },
  {
   "cell_type": "code",
   "execution_count": 92,
   "metadata": {},
   "outputs": [],
   "source": [
    "def f(x):\n",
    "    return 0.5*(x-2)**2-5\n",
    "\n",
    "X_train=np.arange(-10,10,0.01,dtype=np.float32)\n",
    "Y_train= f(X_train)\n",
    "\n",
    "# X_train, Y_trainは１次元配列なので，reshapeで ２次元の(n,dim)に変換します．dim=1です．\n",
    "X_train=np.reshape(X_train,[-1,1])   # (2000,)  -> (2000,1)\n",
    "Y_train=np.reshape(Y_train,[-1,1]) \n",
    "num_train=np.size(X_train)\n",
    "\n",
    "# テスト用の x も準備します．\n",
    "X_val=np.arange(-8,8,0.1,dtype=np.float32)\n",
    "Y_val= f(X_val)\n",
    "X_val=np.reshape(X_val,[-1,1])\n",
    "Y_val=np.reshape(Y_val,[-1,1])\n",
    "num_val=np.size(X_val)"
   ]
  },
  {
   "cell_type": "markdown",
   "metadata": {},
   "source": [
    "いよいよ，学習ループです．\n",
    "誤差(loss)のグラフ表示も行います．"
   ]
  },
  {
   "cell_type": "code",
   "execution_count": 29,
   "metadata": {},
   "outputs": [
    {
     "data": {
      "image/png": "[encoded data removed]",
      "text/plain": [
       "<Figure size 432x288 with 2 Axes>"
      ]
     },
     "metadata": {
      "needs_background": "light"
     },
     "output_type": "display_data"
    }
   ],
   "source": [
    "%matplotlib inline\n",
    "import matplotlib.pyplot as plt\n",
    "from IPython import display\n",
    "\n",
    "x0=np.reshape(X_val,[-1])\n",
    "\n",
    "lr=0.001 #学習率\n",
    "num_epoch=150 # エポック数\n",
    "num_batch=100 # mini-batch サイズ\n",
    "#plt.hold(False)\n",
    "losses=np.array([])\n",
    "losses_val=np.array([])\n",
    "ep=np.array([])\n",
    "# 表示エリアの設定\n",
    "fig=plt.figure()\n",
    "fig1 = fig.add_subplot(121)\n",
    "fig2 = fig.add_subplot(122)\n",
    "for epoch in range(num_epoch):\n",
    "# Stochastic Gradient Descent なので，epochごとに学習データをシャッフルします．\n",
    "    shuffler = np.random.permutation(num_train)\n",
    "    X_train=X_train[shuffler]\n",
    "    Y_train=Y_train[shuffler]\n",
    "    for n in range(0, num_train, num_batch):\n",
    "        loss=0\n",
    "        for i in range(num_batch):\n",
    "            # 順伝搬計算\n",
    "            y=fc3(fc2(fc1(np.c_[X_train[n+i]])))\n",
    "            # 誤差微分値，誤差値を計算します． \n",
    "            dEdx=y-np.c_[Y_train[n+i]]\n",
    "            loss+=(dEdx**2)*0.5\n",
    "            # dEdx (δ)を計算して，逆伝搬します．\n",
    "            dEdx=fc3.backward(dEdx)\n",
    "            dEdx=fc2.backward(dEdx)\n",
    "            dEdx=fc1.backward(dEdx)\n",
    "        # minibatch の順伝搬，逆伝搬を行ったら，SDGで重みを更新\n",
    "        fc1.update(lr)\n",
    "        fc2.update(lr)\n",
    "        fc3.update(lr)\n",
    "        # 各epochの最初にグラフ表示を行います．\n",
    "        if n==0:\n",
    "            #print \"[%d %d] loss: %f\" % (epoch,n,loss/num_batch)\n",
    "            losses=np.append(losses,loss/num_batch)\n",
    "            ep=np.append(ep,epoch)\n",
    "            # 検証用データの評価\n",
    "            loss_val=0\n",
    "            Y_pred=np.array([])\n",
    "            for i in range(num_val):\n",
    "                # 順伝搬計算\n",
    "                y=fc3(fc2(fc1(np.c_[X_val[i]])))\n",
    "                Y_pred=np.append(Y_pred,y)\n",
    "                # 誤差微分値，誤差値 \n",
    "                dEdx=y-np.c_[Y_val[i]]\n",
    "                loss_val+=(dEdx**2)*0.5    \n",
    "                # print y, Y_val[i], (dEdx**2)*0.5\n",
    "            losses_val=np.append(losses_val, loss_val/num_val)\n",
    "            display.clear_output(wait = True)\n",
    "            fig1.axis([0, num_epoch, 0, 50])\n",
    "            fig1.plot(ep,losses,\"b\")\n",
    "            fig1.plot(ep,losses_val,\"r\")\n",
    "            fig2.axis([-8,8,-10,30])\n",
    "            y0=np.reshape(Y_pred,[-1])\n",
    "            fig2.plot(x0,y0,\"b\")\n",
    "            fig2.plot(x0,f(x0),\"r\")\n",
    "            display.display(fig)\n",
    "            if epoch<num_epoch-1:\n",
    "                fig2.cla()\n",
    "                \n",
    "display.clear_output(wait = True)"
   ]
  },
  {
   "cell_type": "code",
   "execution_count": null,
   "metadata": {},
   "outputs": [],
   "source": [
    "print(\"loss_val:\",loss_val)"
   ]
  },
  {
   "cell_type": "markdown",
   "metadata": {},
   "source": [
    "### 課題1\n",
    "以下の小問の(1)-(5)を解答し，さらに(6)-(9)を1つ以上選択し回答すること．\n",
    "\n",
    "1. 上記のコードにおける全結合層の順伝搬，逆伝搬の計算方法を説明し，上記のコードを実行せよ．\n",
    "1. Reluを３層ともFalseにした場合の結果はどうなるか？ 予想して実際に試してみよ．\n",
    "1. モデルパラメータ（例えば，10->30) を変化させて，結果を比較せよ．(特に最終loss値)\n",
    "1. 学習率を変化させて挙動を観察せよ．\n",
    "1. モーメンタムSDGに変更して，ノーマルなSDGとの違いを観察せよ．モーメンタムSDGの実装は各自完成させよ．\n",
    "1. 関数 $f(x)$ を自由に書き換え，実行せよ．\n",
    "1. Adam, AdaGrad のどちらか一方，もしくは両方を実装して比較せよ．\n",
    "1. 一定のepoch数，もしくは一定以下の誤差値で，学習率が段階的に下がるようし，効果を検証せよ．\n",
    "1. 中間層の活性化関数にReLUに加えて，Sigmoidを追加し，(1)ReLu, (2)Sigmoid (3)活性化関数なし　の３通りを比較せよ．(なお，Sigmoidのbackward は $dEdy=dEdy*self.y*(1-self.y)$ で記述できる．) "
   ]
  },
  {
   "cell_type": "markdown",
   "metadata": {},
   "source": [
    "1. 上記のコードにおける全結合層の順伝搬，逆伝搬の計算方法を説明し，上記のコードを実行せよ．\n",
    "    \n",
    "    順伝搬　各ノードの値と各重みを掛け、活性化関数によって足し合わせる\n",
    "    \n",
    "    逆伝搬　経路を逆に辿った時の偏微分を掛け合わせる"
   ]
  },
  {
   "cell_type": "code",
   "execution_count": 29,
   "metadata": {},
   "outputs": [
    {
     "data": {
      "image/png": "[encoded data removed]",
      "text/plain": [
       "<Figure size 432x288 with 2 Axes>"
      ]
     },
     "metadata": {
      "needs_background": "light"
     },
     "output_type": "display_data"
    }
   ],
   "source": [
    "%matplotlib inline\n",
    "import matplotlib.pyplot as plt\n",
    "from IPython import display\n",
    "\n",
    "x0=np.reshape(X_val,[-1])\n",
    "\n",
    "lr=0.001 #学習率\n",
    "num_epoch=150 # エポック数\n",
    "num_batch=100 # mini-batch サイズ\n",
    "#plt.hold(False)\n",
    "losses=np.array([])\n",
    "losses_val=np.array([])\n",
    "ep=np.array([])\n",
    "# 表示エリアの設定\n",
    "fig=plt.figure()\n",
    "fig1 = fig.add_subplot(121)\n",
    "fig2 = fig.add_subplot(122)\n",
    "for epoch in range(num_epoch):\n",
    "# Stochastic Gradient Descent なので，epochごとに学習データをシャッフルします．\n",
    "    shuffler = np.random.permutation(num_train)\n",
    "    X_train=X_train[shuffler]\n",
    "    Y_train=Y_train[shuffler]\n",
    "    for n in range(0, num_train, num_batch):\n",
    "        loss=0\n",
    "        for i in range(num_batch):\n",
    "            # 順伝搬計算\n",
    "            y=fc3(fc2(fc1(np.c_[X_train[n+i]])))\n",
    "            # 誤差微分値，誤差値を計算します． \n",
    "            dEdx=y-np.c_[Y_train[n+i]]\n",
    "            loss+=(dEdx**2)*0.5\n",
    "            # dEdx (δ)を計算して，逆伝搬します．\n",
    "            dEdx=fc3.backward(dEdx)\n",
    "            dEdx=fc2.backward(dEdx)\n",
    "            dEdx=fc1.backward(dEdx)\n",
    "        # minibatch の順伝搬，逆伝搬を行ったら，SDGで重みを更新\n",
    "        fc1.update(lr)\n",
    "        fc2.update(lr)\n",
    "        fc3.update(lr)\n",
    "        # 各epochの最初にグラフ表示を行います．\n",
    "        if n==0:\n",
    "            #print \"[%d %d] loss: %f\" % (epoch,n,loss/num_batch)\n",
    "            losses=np.append(losses,loss/num_batch)\n",
    "            ep=np.append(ep,epoch)\n",
    "            # 検証用データの評価\n",
    "            loss_val=0\n",
    "            Y_pred=np.array([])\n",
    "            for i in range(num_val):\n",
    "                # 順伝搬計算\n",
    "                y=fc3(fc2(fc1(np.c_[X_val[i]])))\n",
    "                Y_pred=np.append(Y_pred,y)\n",
    "                # 誤差微分値，誤差値 \n",
    "                dEdx=y-np.c_[Y_val[i]]\n",
    "                loss_val+=(dEdx**2)*0.5    \n",
    "                # print y, Y_val[i], (dEdx**2)*0.5\n",
    "            losses_val=np.append(losses_val, loss_val/num_val)\n",
    "            display.clear_output(wait = True)\n",
    "            fig1.axis([0, num_epoch, 0, 50])\n",
    "            fig1.plot(ep,losses,\"b\")\n",
    "            fig1.plot(ep,losses_val,\"r\")\n",
    "            fig2.axis([-8,8,-10,30])\n",
    "            y0=np.reshape(Y_pred,[-1])\n",
    "            fig2.plot(x0,y0,\"b\")\n",
    "            fig2.plot(x0,f(x0),\"r\")\n",
    "            display.display(fig)\n",
    "            if epoch<num_epoch-1:\n",
    "                fig2.cla()\n",
    "                \n",
    "display.clear_output(wait = True)"
   ]
  },
  {
   "cell_type": "markdown",
   "metadata": {},
   "source": [
    "2. Reluを３層ともFalseにした場合の結果はどうなるか？ 予想して実際に試してみよ．\n",
    "\n",
    "    予想 線形の予測結果になる"
   ]
  },
  {
   "cell_type": "code",
   "execution_count": 34,
   "metadata": {},
   "outputs": [
    {
     "data": {
      "image/png": "[encoded data removed]",
      "text/plain": [
       "<Figure size 432x288 with 2 Axes>"
      ]
     },
     "metadata": {
      "needs_background": "light"
     },
     "output_type": "display_data"
    }
   ],
   "source": [
    "%matplotlib inline\n",
    "import matplotlib.pyplot as plt\n",
    "from IPython import display\n",
    "\n",
    "x0=np.reshape(X_val,[-1])\n",
    "\n",
    "lr=0.001 #学習率\n",
    "num_epoch=150 # エポック数\n",
    "num_batch=100 # mini-batch サイズ\n",
    "#plt.hold(False)\n",
    "losses=np.array([])\n",
    "losses_val=np.array([])\n",
    "ep=np.array([])\n",
    "# 表示エリアの設定\n",
    "fig=plt.figure()\n",
    "fig1 = fig.add_subplot(121)\n",
    "fig2 = fig.add_subplot(122)\n",
    "for epoch in range(num_epoch):\n",
    "# Stochastic Gradient Descent なので，epochごとに学習データをシャッフルします．\n",
    "    shuffler = np.random.permutation(num_train)\n",
    "    X_train=X_train[shuffler]\n",
    "    Y_train=Y_train[shuffler]\n",
    "    for n in range(0, num_train, num_batch):\n",
    "        loss=0\n",
    "        for i in range(num_batch):\n",
    "            # 順伝搬計算\n",
    "            y=fc3(fc2(fc1(np.c_[X_train[n+i]])))\n",
    "            # 誤差微分値，誤差値を計算します． \n",
    "            dEdx=y-np.c_[Y_train[n+i]]\n",
    "            loss+=(dEdx**2)*0.5\n",
    "            # dEdx (δ)を計算して，逆伝搬します．\n",
    "            dEdx=fc3.backward(dEdx)\n",
    "            dEdx=fc2.backward(dEdx)\n",
    "            dEdx=fc1.backward(dEdx)\n",
    "        # minibatch の順伝搬，逆伝搬を行ったら，SDGで重みを更新\n",
    "        fc1.update(lr)\n",
    "        fc2.update(lr)\n",
    "        fc3.update(lr)\n",
    "        # 各epochの最初にグラフ表示を行います．\n",
    "        if n==0:\n",
    "            #print \"[%d %d] loss: %f\" % (epoch,n,loss/num_batch)\n",
    "            losses=np.append(losses,loss/num_batch)\n",
    "            ep=np.append(ep,epoch)\n",
    "            # 検証用データの評価\n",
    "            loss_val=0\n",
    "            Y_pred=np.array([])\n",
    "            for i in range(num_val):\n",
    "                # 順伝搬計算\n",
    "                y=fc3(fc2(fc1(np.c_[X_val[i]])))\n",
    "                Y_pred=np.append(Y_pred,y)\n",
    "                # 誤差微分値，誤差値 \n",
    "                dEdx=y-np.c_[Y_val[i]]\n",
    "                loss_val+=(dEdx**2)*0.5    \n",
    "                # print y, Y_val[i], (dEdx**2)*0.5\n",
    "            losses_val=np.append(losses_val, loss_val/num_val)\n",
    "            display.clear_output(wait = True)\n",
    "            fig1.axis([0, num_epoch, 0, 50])\n",
    "            fig1.plot(ep,losses,\"b\")\n",
    "            fig1.plot(ep,losses_val,\"r\")\n",
    "            fig2.axis([-8,8,-10,30])\n",
    "            y0=np.reshape(Y_pred,[-1])\n",
    "            fig2.plot(x0,y0,\"b\")\n",
    "            fig2.plot(x0,f(x0),\"r\")\n",
    "            display.display(fig)\n",
    "            if epoch<num_epoch-1:\n",
    "                fig2.cla()\n",
    "                \n",
    "display.clear_output(wait = True)"
   ]
  },
  {
   "cell_type": "markdown",
   "metadata": {},
   "source": [
    "3. モデルパラメータ（例えば，10->30) を変化させて，結果を比較せよ．(特に最終loss値)\n",
    "\n",
    "    １０の場合"
   ]
  },
  {
   "cell_type": "code",
   "execution_count": 39,
   "metadata": {},
   "outputs": [
    {
     "data": {
      "image/png": "[encoded data removed]",
      "text/plain": [
       "<Figure size 432x288 with 2 Axes>"
      ]
     },
     "metadata": {
      "needs_background": "light"
     },
     "output_type": "display_data"
    }
   ],
   "source": [
    "%matplotlib inline\n",
    "import matplotlib.pyplot as plt\n",
    "from IPython import display\n",
    "\n",
    "x0=np.reshape(X_val,[-1])\n",
    "\n",
    "lr=0.001 #学習率\n",
    "num_epoch=150 # エポック数\n",
    "num_batch=100 # mini-batch サイズ\n",
    "#plt.hold(False)\n",
    "losses=np.array([])\n",
    "losses_val=np.array([])\n",
    "ep=np.array([])\n",
    "# 表示エリアの設定\n",
    "fig=plt.figure()\n",
    "fig1 = fig.add_subplot(121)\n",
    "fig2 = fig.add_subplot(122)\n",
    "for epoch in range(num_epoch):\n",
    "# Stochastic Gradient Descent なので，epochごとに学習データをシャッフルします．\n",
    "    shuffler = np.random.permutation(num_train)\n",
    "    X_train=X_train[shuffler]\n",
    "    Y_train=Y_train[shuffler]\n",
    "    for n in range(0, num_train, num_batch):\n",
    "        loss=0\n",
    "        for i in range(num_batch):\n",
    "            # 順伝搬計算\n",
    "            y=fc3(fc2(fc1(np.c_[X_train[n+i]])))\n",
    "            # 誤差微分値，誤差値を計算します． \n",
    "            dEdx=y-np.c_[Y_train[n+i]]\n",
    "            loss+=(dEdx**2)*0.5\n",
    "            # dEdx (δ)を計算して，逆伝搬します．\n",
    "            dEdx=fc3.backward(dEdx)\n",
    "            dEdx=fc2.backward(dEdx)\n",
    "            dEdx=fc1.backward(dEdx)\n",
    "        # minibatch の順伝搬，逆伝搬を行ったら，SDGで重みを更新\n",
    "        fc1.update(lr)\n",
    "        fc2.update(lr)\n",
    "        fc3.update(lr)\n",
    "        # 各epochの最初にグラフ表示を行います．\n",
    "        if n==0:\n",
    "            #print \"[%d %d] loss: %f\" % (epoch,n,loss/num_batch)\n",
    "            losses=np.append(losses,loss/num_batch)\n",
    "            ep=np.append(ep,epoch)\n",
    "            # 検証用データの評価\n",
    "            loss_val=0\n",
    "            Y_pred=np.array([])\n",
    "            for i in range(num_val):\n",
    "                # 順伝搬計算\n",
    "                y=fc3(fc2(fc1(np.c_[X_val[i]])))\n",
    "                Y_pred=np.append(Y_pred,y)\n",
    "                # 誤差微分値，誤差値 \n",
    "                dEdx=y-np.c_[Y_val[i]]\n",
    "                loss_val+=(dEdx**2)*0.5    \n",
    "                # print y, Y_val[i], (dEdx**2)*0.5\n",
    "            losses_val=np.append(losses_val, loss_val/num_val)\n",
    "            display.clear_output(wait = True)\n",
    "            fig1.axis([0, num_epoch, 0, 50])\n",
    "            fig1.plot(ep,losses,\"b\")\n",
    "            fig1.plot(ep,losses_val,\"r\")\n",
    "            fig2.axis([-8,8,-10,30])\n",
    "            y0=np.reshape(Y_pred,[-1])\n",
    "            fig2.plot(x0,y0,\"b\")\n",
    "            fig2.plot(x0,f(x0),\"r\")\n",
    "            display.display(fig)\n",
    "            if epoch<num_epoch-1:\n",
    "                fig2.cla()\n",
    "                \n",
    "display.clear_output(wait = True)"
   ]
  },
  {
   "cell_type": "code",
   "execution_count": 40,
   "metadata": {},
   "outputs": [
    {
     "name": "stdout",
     "output_type": "stream",
     "text": [
      "loss_val: [[147.23811554]]\n"
     ]
    }
   ],
   "source": [
    "print(\"loss_val:\",loss_val)"
   ]
  },
  {
   "cell_type": "markdown",
   "metadata": {},
   "source": [
    "３０の場合"
   ]
  },
  {
   "cell_type": "code",
   "execution_count": 54,
   "metadata": {},
   "outputs": [
    {
     "data": {
      "image/png": "[encoded data removed]",
      "text/plain": [
       "<Figure size 432x288 with 2 Axes>"
      ]
     },
     "metadata": {
      "needs_background": "light"
     },
     "output_type": "display_data"
    }
   ],
   "source": [
    "%matplotlib inline\n",
    "import matplotlib.pyplot as plt\n",
    "from IPython import display\n",
    "\n",
    "x0=np.reshape(X_val,[-1])\n",
    "\n",
    "lr=0.001 #学習率\n",
    "num_epoch=150 # エポック数\n",
    "num_batch=100 # mini-batch サイズ\n",
    "#plt.hold(False)\n",
    "losses=np.array([])\n",
    "losses_val=np.array([])\n",
    "ep=np.array([])\n",
    "# 表示エリアの設定\n",
    "fig=plt.figure()\n",
    "fig1 = fig.add_subplot(121)\n",
    "fig2 = fig.add_subplot(122)\n",
    "for epoch in range(num_epoch):\n",
    "# Stochastic Gradient Descent なので，epochごとに学習データをシャッフルします．\n",
    "    shuffler = np.random.permutation(num_train)\n",
    "    X_train=X_train[shuffler]\n",
    "    Y_train=Y_train[shuffler]\n",
    "    for n in range(0, num_train, num_batch):\n",
    "        loss=0\n",
    "        for i in range(num_batch):\n",
    "            # 順伝搬計算\n",
    "            y=fc3(fc2(fc1(np.c_[X_train[n+i]])))\n",
    "            # 誤差微分値，誤差値を計算します． \n",
    "            dEdx=y-np.c_[Y_train[n+i]]\n",
    "            loss+=(dEdx**2)*0.5\n",
    "            # dEdx (δ)を計算して，逆伝搬します．\n",
    "            dEdx=fc3.backward(dEdx)\n",
    "            dEdx=fc2.backward(dEdx)\n",
    "            dEdx=fc1.backward(dEdx)\n",
    "        # minibatch の順伝搬，逆伝搬を行ったら，SDGで重みを更新\n",
    "        fc1.update(lr)\n",
    "        fc2.update(lr)\n",
    "        fc3.update(lr)\n",
    "        # 各epochの最初にグラフ表示を行います．\n",
    "        if n==0:\n",
    "            #print \"[%d %d] loss: %f\" % (epoch,n,loss/num_batch)\n",
    "            losses=np.append(losses,loss/num_batch)\n",
    "            ep=np.append(ep,epoch)\n",
    "            # 検証用データの評価\n",
    "            loss_val=0\n",
    "            Y_pred=np.array([])\n",
    "            for i in range(num_val):\n",
    "                # 順伝搬計算\n",
    "                y=fc3(fc2(fc1(np.c_[X_val[i]])))\n",
    "                Y_pred=np.append(Y_pred,y)\n",
    "                # 誤差微分値，誤差値 \n",
    "                dEdx=y-np.c_[Y_val[i]]\n",
    "                loss_val+=(dEdx**2)*0.5    \n",
    "                # print y, Y_val[i], (dEdx**2)*0.5\n",
    "            losses_val=np.append(losses_val, loss_val/num_val)\n",
    "            display.clear_output(wait = True)\n",
    "            fig1.axis([0, num_epoch, 0, 50])\n",
    "            fig1.plot(ep,losses,\"b\")\n",
    "            fig1.plot(ep,losses_val,\"r\")\n",
    "            fig2.axis([-8,8,-10,30])\n",
    "            y0=np.reshape(Y_pred,[-1])\n",
    "            fig2.plot(x0,y0,\"b\")\n",
    "            fig2.plot(x0,f(x0),\"r\")\n",
    "            display.display(fig)\n",
    "            if epoch<num_epoch-1:\n",
    "                fig2.cla()\n",
    "                \n",
    "display.clear_output(wait = True)"
   ]
  },
  {
   "cell_type": "code",
   "execution_count": 55,
   "metadata": {},
   "outputs": [
    {
     "name": "stdout",
     "output_type": "stream",
     "text": [
      "loss_val: [[225.38199237]]\n"
     ]
    }
   ],
   "source": [
    "print(\"loss_val:\",loss_val)"
   ]
  },
  {
   "cell_type": "markdown",
   "metadata": {},
   "source": [
    "10の方が学習が誤差が少なかった。基本的にパラメーターは多い方が精度がよくなるはずだが、1回の学習ではパラメーターの少ない方が学習が早いために、１０の方が精度がよくなっているように思う。"
   ]
  },
  {
   "cell_type": "markdown",
   "metadata": {},
   "source": [
    "4. 学習率を変化させて挙動を観察せよ．\n",
    "　学習率0.001->0.0005"
   ]
  },
  {
   "cell_type": "code",
   "execution_count": 66,
   "metadata": {},
   "outputs": [
    {
     "data": {
      "image/png": "[encoded data removed]",
      "text/plain": [
       "<Figure size 432x288 with 2 Axes>"
      ]
     },
     "metadata": {
      "needs_background": "light"
     },
     "output_type": "display_data"
    }
   ],
   "source": [
    "%matplotlib inline\n",
    "import matplotlib.pyplot as plt\n",
    "from IPython import display\n",
    "\n",
    "x0=np.reshape(X_val,[-1])\n",
    "\n",
    "lr=0.0005 #学習率\n",
    "num_epoch=150 # エポック数\n",
    "num_batch=100 # mini-batch サイズ\n",
    "#plt.hold(False)\n",
    "losses=np.array([])\n",
    "losses_val=np.array([])\n",
    "ep=np.array([])\n",
    "# 表示エリアの設定\n",
    "fig=plt.figure()\n",
    "fig1 = fig.add_subplot(121)\n",
    "fig2 = fig.add_subplot(122)\n",
    "for epoch in range(num_epoch):\n",
    "# Stochastic Gradient Descent なので，epochごとに学習データをシャッフルします．\n",
    "    shuffler = np.random.permutation(num_train)\n",
    "    X_train=X_train[shuffler]\n",
    "    Y_train=Y_train[shuffler]\n",
    "    for n in range(0, num_train, num_batch):\n",
    "        loss=0\n",
    "        for i in range(num_batch):\n",
    "            # 順伝搬計算\n",
    "            y=fc3(fc2(fc1(np.c_[X_train[n+i]])))\n",
    "            # 誤差微分値，誤差値を計算します． \n",
    "            dEdx=y-np.c_[Y_train[n+i]]\n",
    "            loss+=(dEdx**2)*0.5\n",
    "            # dEdx (δ)を計算して，逆伝搬します．\n",
    "            dEdx=fc3.backward(dEdx)\n",
    "            dEdx=fc2.backward(dEdx)\n",
    "            dEdx=fc1.backward(dEdx)\n",
    "        # minibatch の順伝搬，逆伝搬を行ったら，SDGで重みを更新\n",
    "        fc1.update(lr)\n",
    "        fc2.update(lr)\n",
    "        fc3.update(lr)\n",
    "        # 各epochの最初にグラフ表示を行います．\n",
    "        if n==0:\n",
    "            #print \"[%d %d] loss: %f\" % (epoch,n,loss/num_batch)\n",
    "            losses=np.append(losses,loss/num_batch)\n",
    "            ep=np.append(ep,epoch)\n",
    "            # 検証用データの評価\n",
    "            loss_val=0\n",
    "            Y_pred=np.array([])\n",
    "            for i in range(num_val):\n",
    "                # 順伝搬計算\n",
    "                y=fc3(fc2(fc1(np.c_[X_val[i]])))\n",
    "                Y_pred=np.append(Y_pred,y)\n",
    "                # 誤差微分値，誤差値 \n",
    "                dEdx=y-np.c_[Y_val[i]]\n",
    "                loss_val+=(dEdx**2)*0.5    \n",
    "                # print y, Y_val[i], (dEdx**2)*0.5\n",
    "            losses_val=np.append(losses_val, loss_val/num_val)\n",
    "            display.clear_output(wait = True)\n",
    "            fig1.axis([0, num_epoch, 0, 50])\n",
    "            fig1.plot(ep,losses,\"b\")\n",
    "            fig1.plot(ep,losses_val,\"r\")\n",
    "            fig2.axis([-8,8,-10,30])\n",
    "            y0=np.reshape(Y_pred,[-1])\n",
    "            fig2.plot(x0,y0,\"b\")\n",
    "            fig2.plot(x0,f(x0),\"r\")\n",
    "            display.display(fig)\n",
    "            if epoch<num_epoch-1:\n",
    "                fig2.cla()\n",
    "                \n",
    "display.clear_output(wait = True)"
   ]
  },
  {
   "cell_type": "code",
   "execution_count": 67,
   "metadata": {},
   "outputs": [
    {
     "name": "stdout",
     "output_type": "stream",
     "text": [
      "loss_val: [[616.99652177]]\n"
     ]
    }
   ],
   "source": [
    "print(\"loss_val:\",loss_val)"
   ]
  },
  {
   "cell_type": "markdown",
   "metadata": {},
   "source": [
    "　学習率0.001->0.005"
   ]
  },
  {
   "cell_type": "code",
   "execution_count": 72,
   "metadata": {},
   "outputs": [
    {
     "data": {
      "image/png": "[encoded data removed]",
      "text/plain": [
       "<Figure size 432x288 with 2 Axes>"
      ]
     },
     "metadata": {
      "needs_background": "light"
     },
     "output_type": "display_data"
    }
   ],
   "source": [
    "%matplotlib inline\n",
    "import matplotlib.pyplot as plt\n",
    "from IPython import display\n",
    "\n",
    "x0=np.reshape(X_val,[-1])\n",
    "\n",
    "lr=0.005 #学習率\n",
    "num_epoch=150 # エポック数\n",
    "num_batch=100 # mini-batch サイズ\n",
    "#plt.hold(False)\n",
    "losses=np.array([])\n",
    "losses_val=np.array([])\n",
    "ep=np.array([])\n",
    "# 表示エリアの設定\n",
    "fig=plt.figure()\n",
    "fig1 = fig.add_subplot(121)\n",
    "fig2 = fig.add_subplot(122)\n",
    "for epoch in range(num_epoch):\n",
    "# Stochastic Gradient Descent なので，epochごとに学習データをシャッフルします．\n",
    "    shuffler = np.random.permutation(num_train)\n",
    "    X_train=X_train[shuffler]\n",
    "    Y_train=Y_train[shuffler]\n",
    "    for n in range(0, num_train, num_batch):\n",
    "        loss=0\n",
    "        for i in range(num_batch):\n",
    "            # 順伝搬計算\n",
    "            y=fc3(fc2(fc1(np.c_[X_train[n+i]])))\n",
    "            # 誤差微分値，誤差値を計算します． \n",
    "            dEdx=y-np.c_[Y_train[n+i]]\n",
    "            loss+=(dEdx**2)*0.5\n",
    "            # dEdx (δ)を計算して，逆伝搬します．\n",
    "            dEdx=fc3.backward(dEdx)\n",
    "            dEdx=fc2.backward(dEdx)\n",
    "            dEdx=fc1.backward(dEdx)\n",
    "        # minibatch の順伝搬，逆伝搬を行ったら，SDGで重みを更新\n",
    "        fc1.update(lr)\n",
    "        fc2.update(lr)\n",
    "        fc3.update(lr)\n",
    "        # 各epochの最初にグラフ表示を行います．\n",
    "        if n==0:\n",
    "            #print \"[%d %d] loss: %f\" % (epoch,n,loss/num_batch)\n",
    "            losses=np.append(losses,loss/num_batch)\n",
    "            ep=np.append(ep,epoch)\n",
    "            # 検証用データの評価\n",
    "            loss_val=0\n",
    "            Y_pred=np.array([])\n",
    "            for i in range(num_val):\n",
    "                # 順伝搬計算\n",
    "                y=fc3(fc2(fc1(np.c_[X_val[i]])))\n",
    "                Y_pred=np.append(Y_pred,y)\n",
    "                # 誤差微分値，誤差値 \n",
    "                dEdx=y-np.c_[Y_val[i]]\n",
    "                loss_val+=(dEdx**2)*0.5    \n",
    "                # print y, Y_val[i], (dEdx**2)*0.5\n",
    "            losses_val=np.append(losses_val, loss_val/num_val)\n",
    "            display.clear_output(wait = True)\n",
    "            fig1.axis([0, num_epoch, 0, 50])\n",
    "            fig1.plot(ep,losses,\"b\")\n",
    "            fig1.plot(ep,losses_val,\"r\")\n",
    "            fig2.axis([-8,8,-10,30])\n",
    "            y0=np.reshape(Y_pred,[-1])\n",
    "            fig2.plot(x0,y0,\"b\")\n",
    "            fig2.plot(x0,f(x0),\"r\")\n",
    "            display.display(fig)\n",
    "            if epoch<num_epoch-1:\n",
    "                fig2.cla()\n",
    "                \n",
    "display.clear_output(wait = True)"
   ]
  },
  {
   "cell_type": "code",
   "execution_count": 73,
   "metadata": {},
   "outputs": [
    {
     "name": "stdout",
     "output_type": "stream",
     "text": [
      "loss_val: [[2303.96015254]]\n"
     ]
    }
   ],
   "source": [
    "print(\"loss_val:\",loss_val)"
   ]
  },
  {
   "cell_type": "markdown",
   "metadata": {},
   "source": [
    "5. モーメンタムSDGに変更して，ノーマルなSDGとの違いを観察せよ．モーメンタムSDGの実装は各自完成させよ．"
   ]
  },
  {
   "cell_type": "code",
   "execution_count": 93,
   "metadata": {},
   "outputs": [
    {
     "data": {
      "image/png": "[encoded data removed]",
      "text/plain": [
       "<Figure size 432x288 with 2 Axes>"
      ]
     },
     "metadata": {
      "needs_background": "light"
     },
     "output_type": "display_data"
    }
   ],
   "source": [
    "%matplotlib inline\n",
    "import matplotlib.pyplot as plt\n",
    "from IPython import display\n",
    "\n",
    "x0=np.reshape(X_val,[-1])\n",
    "\n",
    "lr=0.001 #学習率\n",
    "num_epoch=150 # エポック数\n",
    "num_batch=100 # mini-batch サイズ\n",
    "#plt.hold(False)\n",
    "losses=np.array([])\n",
    "losses_val=np.array([])\n",
    "ep=np.array([])\n",
    "# 表示エリアの設定\n",
    "fig=plt.figure()\n",
    "fig1 = fig.add_subplot(121)\n",
    "fig2 = fig.add_subplot(122)\n",
    "for epoch in range(num_epoch):\n",
    "# Stochastic Gradient Descent なので，epochごとに学習データをシャッフルします．\n",
    "    shuffler = np.random.permutation(num_train)\n",
    "    X_train=X_train[shuffler]\n",
    "    Y_train=Y_train[shuffler]\n",
    "    for n in range(0, num_train, num_batch):\n",
    "        loss=0\n",
    "        for i in range(num_batch):\n",
    "            # 順伝搬計算\n",
    "            y=fc3(fc2(fc1(np.c_[X_train[n+i]])))\n",
    "            # 誤差微分値，誤差値を計算します． \n",
    "            dEdx=y-np.c_[Y_train[n+i]]\n",
    "            loss+=(dEdx**2)*0.5\n",
    "            # dEdx (δ)を計算して，逆伝搬します．\n",
    "            dEdx=fc3.backward(dEdx)\n",
    "            dEdx=fc2.backward(dEdx)\n",
    "            dEdx=fc1.backward(dEdx)\n",
    "        # minibatch の順伝搬，逆伝搬を行ったら，SDGで重みを更新\n",
    "        fc1.updatem(lr)\n",
    "        fc2.updatem(lr)\n",
    "        fc3.updatem(lr)\n",
    "        # 各epochの最初にグラフ表示を行います．\n",
    "        if n==0:\n",
    "            #print \"[%d %d] loss: %f\" % (epoch,n,loss/num_batch)\n",
    "            losses=np.append(losses,loss/num_batch)\n",
    "            ep=np.append(ep,epoch)\n",
    "            # 検証用データの評価\n",
    "            loss_val=0\n",
    "            Y_pred=np.array([])\n",
    "            for i in range(num_val):\n",
    "                # 順伝搬計算\n",
    "                y=fc3(fc2(fc1(np.c_[X_val[i]])))\n",
    "                Y_pred=np.append(Y_pred,y)\n",
    "                # 誤差微分値，誤差値 \n",
    "                dEdx=y-np.c_[Y_val[i]]\n",
    "                loss_val+=(dEdx**2)*0.5    \n",
    "                # print y, Y_val[i], (dEdx**2)*0.5\n",
    "            losses_val=np.append(losses_val, loss_val/num_val)\n",
    "            display.clear_output(wait = True)\n",
    "            fig1.axis([0, num_epoch, 0, 50])\n",
    "            fig1.plot(ep,losses,\"b\")\n",
    "            fig1.plot(ep,losses_val,\"r\")\n",
    "            fig2.axis([-8,8,-10,30])\n",
    "            y0=np.reshape(Y_pred,[-1])\n",
    "            fig2.plot(x0,y0,\"b\")\n",
    "            fig2.plot(x0,f(x0),\"r\")\n",
    "            display.display(fig)\n",
    "            if epoch<num_epoch-1:\n",
    "                fig2.cla()\n",
    "                \n",
    "display.clear_output(wait = True)"
   ]
  },
  {
   "cell_type": "code",
   "execution_count": 94,
   "metadata": {},
   "outputs": [
    {
     "name": "stdout",
     "output_type": "stream",
     "text": [
      "loss_val: [[8.62055777]]\n"
     ]
    }
   ],
   "source": [
    "print(\"loss_val:\",loss_val)"
   ]
  },
  {
   "cell_type": "markdown",
   "metadata": {},
   "source": [
    "6. 関数 $f(x)$ を自由に書き換え，実行せよ．"
   ]
  },
  {
   "cell_type": "code",
   "execution_count": 99,
   "metadata": {},
   "outputs": [],
   "source": [
    "def f(x):\n",
    "    return (x)**2-7\n",
    "\n",
    "X_train=np.arange(-10,10,0.01,dtype=np.float32)\n",
    "Y_train= f(X_train)\n",
    "\n",
    "# X_train, Y_trainは１次元配列なので，reshapeで ２次元の(n,dim)に変換します．dim=1です．\n",
    "X_train=np.reshape(X_train,[-1,1])   # (2000,)  -> (2000,1)\n",
    "Y_train=np.reshape(Y_train,[-1,1]) \n",
    "num_train=np.size(X_train)\n",
    "\n",
    "# テスト用の x も準備します．\n",
    "X_val=np.arange(-8,8,0.1,dtype=np.float32)\n",
    "Y_val= f(X_val)\n",
    "X_val=np.reshape(X_val,[-1,1])\n",
    "Y_val=np.reshape(Y_val,[-1,1])\n",
    "num_val=np.size(X_val)"
   ]
  },
  {
   "cell_type": "code",
   "execution_count": 101,
   "metadata": {},
   "outputs": [
    {
     "data": {
      "image/png": "[encoded data removed]",
      "text/plain": [
       "<Figure size 432x288 with 2 Axes>"
      ]
     },
     "metadata": {
      "needs_background": "light"
     },
     "output_type": "display_data"
    }
   ],
   "source": [
    "%matplotlib inline\n",
    "import matplotlib.pyplot as plt\n",
    "from IPython import display\n",
    "\n",
    "x0=np.reshape(X_val,[-1])\n",
    "\n",
    "lr=0.001 #学習率\n",
    "num_epoch=150 # エポック数\n",
    "num_batch=100 # mini-batch サイズ\n",
    "#plt.hold(False)\n",
    "losses=np.array([])\n",
    "losses_val=np.array([])\n",
    "ep=np.array([])\n",
    "# 表示エリアの設定\n",
    "fig=plt.figure()\n",
    "fig1 = fig.add_subplot(121)\n",
    "fig2 = fig.add_subplot(122)\n",
    "for epoch in range(num_epoch):\n",
    "# Stochastic Gradient Descent なので，epochごとに学習データをシャッフルします．\n",
    "    shuffler = np.random.permutation(num_train)\n",
    "    X_train=X_train[shuffler]\n",
    "    Y_train=Y_train[shuffler]\n",
    "    for n in range(0, num_train, num_batch):\n",
    "        loss=0\n",
    "        for i in range(num_batch):\n",
    "            # 順伝搬計算\n",
    "            y=fc3(fc2(fc1(np.c_[X_train[n+i]])))\n",
    "            # 誤差微分値，誤差値を計算します． \n",
    "            dEdx=y-np.c_[Y_train[n+i]]\n",
    "            loss+=(dEdx**2)*0.5\n",
    "            # dEdx (δ)を計算して，逆伝搬します．\n",
    "            dEdx=fc3.backward(dEdx)\n",
    "            dEdx=fc2.backward(dEdx)\n",
    "            dEdx=fc1.backward(dEdx)\n",
    "        # minibatch の順伝搬，逆伝搬を行ったら，SDGで重みを更新\n",
    "        fc1.update(lr)\n",
    "        fc2.update(lr)\n",
    "        fc3.update(lr)\n",
    "        # 各epochの最初にグラフ表示を行います．\n",
    "        if n==0:\n",
    "            #print \"[%d %d] loss: %f\" % (epoch,n,loss/num_batch)\n",
    "            losses=np.append(losses,loss/num_batch)\n",
    "            ep=np.append(ep,epoch)\n",
    "            # 検証用データの評価\n",
    "            loss_val=0\n",
    "            Y_pred=np.array([])\n",
    "            for i in range(num_val):\n",
    "                # 順伝搬計算\n",
    "                y=fc3(fc2(fc1(np.c_[X_val[i]])))\n",
    "                Y_pred=np.append(Y_pred,y)\n",
    "                # 誤差微分値，誤差値 \n",
    "                dEdx=y-np.c_[Y_val[i]]\n",
    "                loss_val+=(dEdx**2)*0.5    \n",
    "                # print y, Y_val[i], (dEdx**2)*0.5\n",
    "            losses_val=np.append(losses_val, loss_val/num_val)\n",
    "            display.clear_output(wait = True)\n",
    "            fig1.axis([0, num_epoch, 0, 50])\n",
    "            fig1.plot(ep,losses,\"b\")\n",
    "            fig1.plot(ep,losses_val,\"r\")\n",
    "            fig2.axis([-8,8,-10,30])\n",
    "            y0=np.reshape(Y_pred,[-1])\n",
    "            fig2.plot(x0,y0,\"b\")\n",
    "            fig2.plot(x0,f(x0),\"r\")\n",
    "            display.display(fig)\n",
    "            if epoch<num_epoch-1:\n",
    "                fig2.cla()\n",
    "                \n",
    "display.clear_output(wait = True)"
   ]
  },
  {
   "cell_type": "code",
   "execution_count": 102,
   "metadata": {},
   "outputs": [
    {
     "name": "stdout",
     "output_type": "stream",
     "text": [
      "loss_val: [[734.21083567]]\n"
     ]
    }
   ],
   "source": [
    "print(\"loss_val:\",loss_val)"
   ]
  },
  {
   "cell_type": "markdown",
   "metadata": {},
   "source": [
    "### 【課題1: 任意発展課題】\n",
    "興味のある人は，例えば，以下のような拡張を行ってみよ．\n",
    "\n",
    "1. RMSProp,AdaDeltaも実装せよ．\n",
    "1. mini-batch をループではなくて，dot の代わりに tensordot を使うようにすることすることで，まとめて一回で計算するように拡張せよ．\n",
    "1. 上記のmini-batch対応を行った後，cupy ライブラリを使って，GPUに対応させよ．\n",
    "1. Batch Normalization Layerを追加せよ．"
   ]
  },
  {
   "cell_type": "code",
   "execution_count": null,
   "metadata": {
    "collapsed": true
   },
   "outputs": [],
   "source": []
  }
 ],
 "metadata": {
  "kernelspec": {
   "display_name": "Python 3",
   "language": "python",
   "name": "python3"
  },
  "language_info": {
   "codemirror_mode": {
    "name": "ipython",
    "version": 3
   },
   "file_extension": ".py",
   "mimetype": "text/x-python",
   "name": "python",
   "nbconvert_exporter": "python",
   "pygments_lexer": "ipython3",
   "version": "3.7.6"
  }
 },
 "nbformat": 4,
 "nbformat_minor": 2
}
